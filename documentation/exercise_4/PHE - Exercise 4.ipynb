{
 "cells": [
  {
   "cell_type": "markdown",
   "metadata": {},
   "source": [
    "# Portable Hadoop Environment - Exercise 4\n",
    "\n",
    "Welcome, if you're reading this then you've successfully opened the Jupyter Notebook for Exercise 4.  We will now cover several tasks to help you analyze Hive data using Python from within this notebook.  \n",
    "\n",
    "The first step is importing the necessary libraries.\n",
    "\n",
    "In the following two cells you can see that we've installed the matplotlib and pyhive libraries by using !pip.  This executes pip in on the client node and installs modules automatically.  Then we've imported those modules."
   ]
  },
  {
   "cell_type": "code",
   "execution_count": 6,
   "metadata": {},
   "outputs": [
    {
     "name": "stdout",
     "output_type": "stream",
     "text": [
      "Requirement already satisfied: matplotlib in /usr/local/lib/python3.7/dist-packages (3.3.3)\n",
      "Requirement already satisfied: numpy>=1.15 in /usr/local/lib/python3.7/dist-packages (from matplotlib) (1.19.5)\n",
      "Requirement already satisfied: pyparsing!=2.0.4,!=2.1.2,!=2.1.6,>=2.0.3 in /usr/local/lib/python3.7/dist-packages (from matplotlib) (2.4.7)\n",
      "Requirement already satisfied: python-dateutil>=2.1 in /usr/local/lib/python3.7/dist-packages (from matplotlib) (2.8.1)\n",
      "Requirement already satisfied: cycler>=0.10 in /usr/local/lib/python3.7/dist-packages (from matplotlib) (0.10.0)\n",
      "Requirement already satisfied: kiwisolver>=1.0.1 in /usr/local/lib/python3.7/dist-packages (from matplotlib) (1.3.1)\n",
      "Requirement already satisfied: pillow>=6.2.0 in /usr/local/lib/python3.7/dist-packages (from matplotlib) (8.1.0)\n",
      "Requirement already satisfied: six in /usr/local/lib/python3.7/dist-packages (from cycler>=0.10->matplotlib) (1.15.0)\n",
      "Requirement already satisfied: pyhive in /usr/local/lib/python3.7/dist-packages (0.6.3)\n",
      "Requirement already satisfied: python-dateutil in /usr/local/lib/python3.7/dist-packages (from pyhive) (2.8.1)\n",
      "Requirement already satisfied: future in /usr/local/lib/python3.7/dist-packages (from pyhive) (0.18.2)\n",
      "Requirement already satisfied: six>=1.5 in /usr/local/lib/python3.7/dist-packages (from python-dateutil->pyhive) (1.15.0)\n"
     ]
    }
   ],
   "source": [
    "# For any missing modules, you can use pip from within a cell as seen here:\n",
    "!pip install matplotlib\n",
    "!pip install pyhive"
   ]
  },
  {
   "cell_type": "code",
   "execution_count": 52,
   "metadata": {},
   "outputs": [],
   "source": [
    "# Pandas is a python data handling library\n",
    "# Matplot lib is used for plotting charts and graphs\n",
    "# Pyhive is the library used for accessing Hive\n",
    "\n",
    "import pandas as pd\n",
    "import matplotlib.pyplot as plt\n",
    "from pyhive import hive"
   ]
  },
  {
   "cell_type": "markdown",
   "metadata": {},
   "source": [
    "Now that the modules have been imported successfully we can get to work on the data!\n",
    "\n",
    "We're going to reuse the data loaded in Exercise 2.  The next cell shows how to connect to hive and execute a query which populates a Pandas dataframe for further analysis."
   ]
  },
  {
   "cell_type": "code",
   "execution_count": 22,
   "metadata": {},
   "outputs": [
    {
     "data": {
      "text/html": [
       "<div>\n",
       "<style scoped>\n",
       "    .dataframe tbody tr th:only-of-type {\n",
       "        vertical-align: middle;\n",
       "    }\n",
       "\n",
       "    .dataframe tbody tr th {\n",
       "        vertical-align: top;\n",
       "    }\n",
       "\n",
       "    .dataframe thead th {\n",
       "        text-align: right;\n",
       "    }\n",
       "</style>\n",
       "<table border=\"1\" class=\"dataframe\">\n",
       "  <thead>\n",
       "    <tr style=\"text-align: right;\">\n",
       "      <th></th>\n",
       "      <th>t.datetime</th>\n",
       "      <th>t.shipping_id</th>\n",
       "      <th>t.shipping_name</th>\n",
       "      <th>t.owner_id</th>\n",
       "      <th>t.owner_name</th>\n",
       "      <th>t.status</th>\n",
       "      <th>t.location</th>\n",
       "      <th>d.id</th>\n",
       "      <th>d.firstname</th>\n",
       "      <th>d.lastname</th>\n",
       "      <th>d.startdate</th>\n",
       "      <th>d.rate</th>\n",
       "      <th>d.location</th>\n",
       "    </tr>\n",
       "  </thead>\n",
       "  <tbody>\n",
       "    <tr>\n",
       "      <th>0</th>\n",
       "      <td>2021-01-12 17:54:13,846</td>\n",
       "      <td>25580</td>\n",
       "      <td>log-generator.py</td>\n",
       "      <td>145</td>\n",
       "      <td>log-generator</td>\n",
       "      <td>DEBUG</td>\n",
       "      <td>Allentown</td>\n",
       "      <td>4</td>\n",
       "      <td>camron</td>\n",
       "      <td>stevens</td>\n",
       "      <td>7-18-2012</td>\n",
       "      <td>22</td>\n",
       "      <td>Allentown</td>\n",
       "    </tr>\n",
       "    <tr>\n",
       "      <th>1</th>\n",
       "      <td>2021-01-12 17:54:23,53</td>\n",
       "      <td>25580</td>\n",
       "      <td>log-generator.py</td>\n",
       "      <td>145</td>\n",
       "      <td>log-generator</td>\n",
       "      <td>DEBUG</td>\n",
       "      <td>Fayetteville</td>\n",
       "      <td>2</td>\n",
       "      <td>john</td>\n",
       "      <td>doe</td>\n",
       "      <td>3-21-2004</td>\n",
       "      <td>38</td>\n",
       "      <td>Fayetteville</td>\n",
       "    </tr>\n",
       "    <tr>\n",
       "      <th>2</th>\n",
       "      <td>2021-01-12 17:54:29,940</td>\n",
       "      <td>25580</td>\n",
       "      <td>log-generator.py</td>\n",
       "      <td>145</td>\n",
       "      <td>log-generator</td>\n",
       "      <td>DEBUG</td>\n",
       "      <td>Shreveport</td>\n",
       "      <td>5</td>\n",
       "      <td>doug</td>\n",
       "      <td>stone</td>\n",
       "      <td>10-18-1980</td>\n",
       "      <td>55</td>\n",
       "      <td>Shreveport</td>\n",
       "    </tr>\n",
       "    <tr>\n",
       "      <th>3</th>\n",
       "      <td>2021-01-12 17:55:10,9</td>\n",
       "      <td>25580</td>\n",
       "      <td>log-generator.py</td>\n",
       "      <td>145</td>\n",
       "      <td>log-generator</td>\n",
       "      <td>DEBUG</td>\n",
       "      <td>Hickory</td>\n",
       "      <td>1</td>\n",
       "      <td>david</td>\n",
       "      <td>johnson</td>\n",
       "      <td>1999-1-21</td>\n",
       "      <td>49</td>\n",
       "      <td>Hickory</td>\n",
       "    </tr>\n",
       "    <tr>\n",
       "      <th>4</th>\n",
       "      <td>2021-01-12 17:55:27,91</td>\n",
       "      <td>25580</td>\n",
       "      <td>log-generator.py</td>\n",
       "      <td>145</td>\n",
       "      <td>log-generator</td>\n",
       "      <td>DEBUG</td>\n",
       "      <td>Allentown</td>\n",
       "      <td>4</td>\n",
       "      <td>camron</td>\n",
       "      <td>stevens</td>\n",
       "      <td>7-18-2012</td>\n",
       "      <td>22</td>\n",
       "      <td>Allentown</td>\n",
       "    </tr>\n",
       "  </tbody>\n",
       "</table>\n",
       "</div>"
      ],
      "text/plain": [
       "                t.datetime t.shipping_id   t.shipping_name t.owner_id  \\\n",
       "0  2021-01-12 17:54:13,846         25580  log-generator.py        145   \n",
       "1   2021-01-12 17:54:23,53         25580  log-generator.py        145   \n",
       "2  2021-01-12 17:54:29,940         25580  log-generator.py        145   \n",
       "3    2021-01-12 17:55:10,9         25580  log-generator.py        145   \n",
       "4   2021-01-12 17:55:27,91         25580  log-generator.py        145   \n",
       "\n",
       "    t.owner_name t.status    t.location  d.id d.firstname d.lastname  \\\n",
       "0  log-generator    DEBUG     Allentown     4      camron    stevens   \n",
       "1  log-generator    DEBUG  Fayetteville     2        john        doe   \n",
       "2  log-generator    DEBUG    Shreveport     5        doug      stone   \n",
       "3  log-generator    DEBUG       Hickory     1       david    johnson   \n",
       "4  log-generator    DEBUG     Allentown     4      camron    stevens   \n",
       "\n",
       "  d.startdate  d.rate    d.location  \n",
       "0   7-18-2012      22     Allentown  \n",
       "1   3-21-2004      38  Fayetteville  \n",
       "2  10-18-1980      55    Shreveport  \n",
       "3   1999-1-21      49       Hickory  \n",
       "4   7-18-2012      22     Allentown  "
      ]
     },
     "execution_count": 22,
     "metadata": {},
     "output_type": "execute_result"
    }
   ],
   "source": [
    "# In the Portable Hadoop Environment, you only need the host and port specified for the connection\n",
    "conn = hive.Connection(host='hive-server',port='10000')\n",
    "\n",
    "# Panda's read_sql method makes querying hive incredibly simple)\n",
    "df = pd.read_sql(con=conn, sql='SELECT * FROM truckingco.trucks t JOIN truckingco.drivers d on t.location = d.location')\n",
    "\n",
    "# Now we can take a look at the first 5 records\n",
    "df.head(5)"
   ]
  },
  {
   "cell_type": "markdown",
   "metadata": {},
   "source": [
    "This is great.  Now that we've created the dataframe we can start aggregating and plotting graphs.\n",
    "\n",
    "Lets start by doing just a little bit of data cleanup. We'll do this by creating a new dataframe but only selecting a subset of columns from the previous one."
   ]
  },
  {
   "cell_type": "code",
   "execution_count": 40,
   "metadata": {},
   "outputs": [
    {
     "data": {
      "text/html": [
       "<div>\n",
       "<style scoped>\n",
       "    .dataframe tbody tr th:only-of-type {\n",
       "        vertical-align: middle;\n",
       "    }\n",
       "\n",
       "    .dataframe tbody tr th {\n",
       "        vertical-align: top;\n",
       "    }\n",
       "\n",
       "    .dataframe thead th {\n",
       "        text-align: right;\n",
       "    }\n",
       "</style>\n",
       "<table border=\"1\" class=\"dataframe\">\n",
       "  <thead>\n",
       "    <tr style=\"text-align: right;\">\n",
       "      <th></th>\n",
       "      <th>t.location</th>\n",
       "      <th>d.firstname</th>\n",
       "      <th>d.lastname</th>\n",
       "      <th>d.startdate</th>\n",
       "      <th>d.rate</th>\n",
       "    </tr>\n",
       "  </thead>\n",
       "  <tbody>\n",
       "    <tr>\n",
       "      <th>0</th>\n",
       "      <td>Allentown</td>\n",
       "      <td>camron</td>\n",
       "      <td>stevens</td>\n",
       "      <td>7-18-2012</td>\n",
       "      <td>22</td>\n",
       "    </tr>\n",
       "    <tr>\n",
       "      <th>1</th>\n",
       "      <td>Fayetteville</td>\n",
       "      <td>john</td>\n",
       "      <td>doe</td>\n",
       "      <td>3-21-2004</td>\n",
       "      <td>38</td>\n",
       "    </tr>\n",
       "    <tr>\n",
       "      <th>2</th>\n",
       "      <td>Shreveport</td>\n",
       "      <td>doug</td>\n",
       "      <td>stone</td>\n",
       "      <td>10-18-1980</td>\n",
       "      <td>55</td>\n",
       "    </tr>\n",
       "    <tr>\n",
       "      <th>3</th>\n",
       "      <td>Hickory</td>\n",
       "      <td>david</td>\n",
       "      <td>johnson</td>\n",
       "      <td>1999-1-21</td>\n",
       "      <td>49</td>\n",
       "    </tr>\n",
       "    <tr>\n",
       "      <th>4</th>\n",
       "      <td>Allentown</td>\n",
       "      <td>camron</td>\n",
       "      <td>stevens</td>\n",
       "      <td>7-18-2012</td>\n",
       "      <td>22</td>\n",
       "    </tr>\n",
       "  </tbody>\n",
       "</table>\n",
       "</div>"
      ],
      "text/plain": [
       "     t.location d.firstname d.lastname d.startdate  d.rate\n",
       "0     Allentown      camron    stevens   7-18-2012      22\n",
       "1  Fayetteville        john        doe   3-21-2004      38\n",
       "2    Shreveport        doug      stone  10-18-1980      55\n",
       "3       Hickory       david    johnson   1999-1-21      49\n",
       "4     Allentown      camron    stevens   7-18-2012      22"
      ]
     },
     "execution_count": 40,
     "metadata": {},
     "output_type": "execute_result"
    }
   ],
   "source": [
    "data = df[[\"t.location\",\"d.firstname\",\"d.lastname\",\"d.startdate\",\"d.rate\"]]\n",
    "data.head(5)"
   ]
  },
  {
   "cell_type": "markdown",
   "metadata": {},
   "source": [
    "Okay now with that data, let's start by doing a quick analysis on the \"d.rate\" column, or the payrate for the drivers."
   ]
  },
  {
   "cell_type": "code",
   "execution_count": 37,
   "metadata": {},
   "outputs": [
    {
     "data": {
      "text/html": [
       "<div>\n",
       "<style scoped>\n",
       "    .dataframe tbody tr th:only-of-type {\n",
       "        vertical-align: middle;\n",
       "    }\n",
       "\n",
       "    .dataframe tbody tr th {\n",
       "        vertical-align: top;\n",
       "    }\n",
       "\n",
       "    .dataframe thead th {\n",
       "        text-align: right;\n",
       "    }\n",
       "</style>\n",
       "<table border=\"1\" class=\"dataframe\">\n",
       "  <thead>\n",
       "    <tr style=\"text-align: right;\">\n",
       "      <th></th>\n",
       "      <th>d.rate</th>\n",
       "    </tr>\n",
       "  </thead>\n",
       "  <tbody>\n",
       "    <tr>\n",
       "      <th>min</th>\n",
       "      <td>22.000000</td>\n",
       "    </tr>\n",
       "    <tr>\n",
       "      <th>max</th>\n",
       "      <td>55.000000</td>\n",
       "    </tr>\n",
       "    <tr>\n",
       "      <th>median</th>\n",
       "      <td>41.000000</td>\n",
       "    </tr>\n",
       "    <tr>\n",
       "      <th>mean</th>\n",
       "      <td>41.105263</td>\n",
       "    </tr>\n",
       "  </tbody>\n",
       "</table>\n",
       "</div>"
      ],
      "text/plain": [
       "           d.rate\n",
       "min     22.000000\n",
       "max     55.000000\n",
       "median  41.000000\n",
       "mean    41.105263"
      ]
     },
     "execution_count": 37,
     "metadata": {},
     "output_type": "execute_result"
    }
   ],
   "source": [
    "data.agg(\n",
    "{\n",
    "    \"d.rate\": [\"min\", \"max\", \"median\", \"mean\"]\n",
    "})"
   ]
  },
  {
   "cell_type": "markdown",
   "metadata": {},
   "source": [
    "That's some good information to report on.  Now lets do some work with dataframes to get the counts for each driver's routes driven."
   ]
  },
  {
   "cell_type": "code",
   "execution_count": 50,
   "metadata": {},
   "outputs": [
    {
     "name": "stderr",
     "output_type": "stream",
     "text": [
      "/usr/local/lib/python3.7/dist-packages/ipykernel_launcher.py:2: SettingWithCopyWarning: \n",
      "A value is trying to be set on a copy of a slice from a DataFrame.\n",
      "Try using .loc[row_indexer,col_indexer] = value instead\n",
      "\n",
      "See the caveats in the documentation: https://pandas.pydata.org/pandas-docs/stable/user_guide/indexing.html#returning-a-view-versus-a-copy\n",
      "  \n"
     ]
    },
    {
     "data": {
      "text/plain": [
       "camron stevens    21\n",
       "david johnson     21\n",
       "doug stone        20\n",
       "jack touche       20\n",
       "john doe          13\n",
       "Name: d.fullname, dtype: int64"
      ]
     },
     "execution_count": 50,
     "metadata": {},
     "output_type": "execute_result"
    }
   ],
   "source": [
    "# Concatenating to create a column that contains the drivers full name\n",
    "data[\"d.fullname\"] = data[\"d.firstname\"] + \" \" + data[\"d.lastname\"]\n",
    "\n",
    "# Setting the index of the df to the newly created column\n",
    "data.set_index([\"d.fullname\"])\n",
    "\n",
    "# Using value_counts() to get the counts for each driver and creating a new dataframe to hold that result\n",
    "driver_counts = data[\"d.fullname\"].value_counts()\n",
    "\n",
    "driver_counts"
   ]
  },
  {
   "cell_type": "markdown",
   "metadata": {},
   "source": [
    "Now let's plot a graph for the number of times driven by each driver."
   ]
  },
  {
   "cell_type": "code",
   "execution_count": 54,
   "metadata": {},
   "outputs": [
    {
     "data": {
      "image/png": "[encoded data removed]",
      "text/plain": [
       "<Figure size 432x288 with 1 Axes>"
      ]
     },
     "metadata": {
      "needs_background": "light"
     },
     "output_type": "display_data"
    }
   ],
   "source": [
    "plt.plot(driver_counts)\n",
    "\n",
    "plt.xlabel('Driver Name')\n",
    "plt.ylabel('# Driven')\n",
    "\n",
    "plt.title('Count of routes driven by driver')\n",
    "\n",
    "plt.show()"
   ]
  },
  {
   "cell_type": "markdown",
   "metadata": {},
   "source": [
    "As you can see using Python and Jupyter notes is a great way to disect and analyze data from Hive.  We've only begun to scratch the surface with this example.  Feel free to play around further with this notebook or try creating your own.  Once you're finished please proceed to Challenge 2!"
   ]
  }
 ],
 "metadata": {
  "kernelspec": {
   "display_name": "Python 3",
   "language": "python",
   "name": "python3"
  },
  "language_info": {
   "codemirror_mode": {
    "name": "ipython",
    "version": 3
   },
   "file_extension": ".py",
   "mimetype": "text/x-python",
   "name": "python",
   "nbconvert_exporter": "python",
   "pygments_lexer": "ipython3",
   "version": "3.7.3"
  }
 },
 "nbformat": 4,
 "nbformat_minor": 4
}
